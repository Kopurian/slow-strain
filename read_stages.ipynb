{
 "cells": [
  {
   "cell_type": "code",
   "execution_count": 1,
   "metadata": {},
   "outputs": [],
   "source": [
    "# uncomment line below if lasio is not installed\n",
    "# !pip install lasio\n",
    "\n",
    "import os\n",
    "import pandas as pd\n",
    "import lasio\n",
    "import re\n",
    "import time\n",
    "import gc"
   ]
  },
  {
   "cell_type": "code",
   "execution_count": 2,
   "metadata": {},
   "outputs": [],
   "source": [
    "src_folder = r\"E:\\Downloads\\mha0003\\Boggess\\Off Depth\\Copied Data\\Monitoring 5H\\9H\" # Change to folder containing the stages\n",
    "files = os.listdir(src_folder)\n",
    "target_folder = r\"E:\\Downloads\\mha0003\\Boggess\\Off Depth\\Copied Data\\9H on 5H Output\" # Change to output folder for keeping final CSVs\n",
    "suffix = \".csv\""
   ]
  },
  {
   "cell_type": "code",
   "execution_count": 3,
   "metadata": {},
   "outputs": [
    {
     "name": "stdout",
     "output_type": "stream",
     "text": [
      "Time Taken for Stage 09 : 3039.0314762592316\n"
     ]
    }
   ],
   "source": [
    "'''\n",
    "\n",
    "1. Loops through each stage folder\n",
    "2. Loops through each file, convert to readable LAS data and append in a Dataframe\n",
    "3. Output CSV is stored in each stage folder\n",
    "\n",
    "'''\n",
    "t_start = time.time()\n",
    "\n",
    "for stage in files[8:]:\n",
    "    frames = []\n",
    "    directory = os.path.join(src_folder, stage)\n",
    "    las_files = os.listdir(directory)\n",
    "    output_folder = os.path.join(target_folder, stage)\n",
    "    if not os.path.exists(output_folder):\n",
    "        os.mkdir(output_folder)\n",
    "    for file in las_files:\n",
    "        las = lasio.read(os.path.join(src_folder, stage, file))\n",
    "        match = re.findall(r\"\\d\\d\\d\\d\\d\\d\\d\\d\\d\\d\\d\\d\", str(file))\n",
    "        df = las.df().reset_index()\n",
    "        df.drop(df[df['SSTR'] > 25].index, inplace = True)\n",
    "        df.drop(df[df['SSTR'] < 0].index, inplace = True)\n",
    "        df.drop(df[df['DEPT'] > -8000].index, inplace = True)\n",
    "        df.dropna(axis=0, inplace=True)\n",
    "        df.drop([\"RMS:1\", \"RMS:2\", \"RMS:3\"], axis=1, inplace=True) # if error here, change RMS:1 to the correct header value based on output of df\n",
    "        df.reset_index(inplace = True)\n",
    "        df = df.apply(pd.to_numeric)\n",
    "        df.insert(0, \"Timestep\", int(match[0]))\n",
    "        frames.append(df)\n",
    "    big_data = pd.concat(frames)\n",
    "    big_data = big_data.loc[:, ~big_data.columns.str.contains('^Unnamed')]\n",
    "    big_data.to_csv(os.path.join(output_folder, stage + suffix))\n",
    "    del [[big_data]]\n",
    "    gc.collect()\n",
    "    big_data = pd.DataFrame()\n",
    "    t_end = time.time()\n",
    "    print(\"Time Taken for {} : {}\".format(stage, t_end-t_start))\n",
    "    t_start = time.time()"
   ]
  }
 ],
 "metadata": {
  "interpreter": {
   "hash": "b50f0024ac28a240cd88c708084c3a2ffd40687d8bc14eba0917d67fbdc7c42b"
  },
  "kernelspec": {
   "display_name": "Python 3.10.0 64-bit (windows store)",
   "language": "python",
   "name": "python3"
  },
  "language_info": {
   "codemirror_mode": {
    "name": "ipython",
    "version": 3
   },
   "file_extension": ".py",
   "mimetype": "text/x-python",
   "name": "python",
   "nbconvert_exporter": "python",
   "pygments_lexer": "ipython3",
   "version": "3.10.1"
  },
  "orig_nbformat": 4
 },
 "nbformat": 4,
 "nbformat_minor": 2
}
