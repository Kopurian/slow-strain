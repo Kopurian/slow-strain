{
 "cells": [
  {
   "cell_type": "code",
   "execution_count": 1,
   "metadata": {
    "collapsed": true
   },
   "outputs": [
    {
     "name": "stdout",
     "output_type": "stream",
     "text": [
      "['Stage 03.csv', 'Stage 07.csv', 'Stage 11.csv', 'Stage 12.csv', 'Stage 31.csv']\n"
     ]
    }
   ],
   "source": [
    "import lasio\n",
    "import numpy as np\n",
    "import os\n",
    "import pandas as pd\n",
    "import seaborn as sns\n",
    "import re\n",
    "import plotly.figure_factory as ff\n",
    "\n",
    "src_folder = r\"H:\\Stage CSV\"\n",
    "files = os.listdir(src_folder)\n",
    "print(files)\n",
    "#target_folder = r\"H:\\Output CSV\"\n",
    "#stages = os.listdir(target_folder)\n",
    "#stage_folder = os.path.join(target_folder, 'Stage 12')\n",
    "#stage_folder_path = os.path.join(target_folder, stage_folder)"
   ]
  },
  {
   "cell_type": "code",
   "execution_count": 2,
   "outputs": [
    {
     "name": "stdout",
     "output_type": "stream",
     "text": [
      "          Unnamed: 0      Timestep      DEPT  SSTR\n",
      "0                  1  190811232001 -21980.64 -1.60\n",
      "1                  2  190811232001 -21977.29 -1.58\n",
      "2                  3  190811232001 -21973.94  0.06\n",
      "3                  4  190811232001 -21970.59  0.09\n",
      "4                  5  190811232001 -21967.24  0.20\n",
      "...              ...           ...       ...   ...\n",
      "74610427        6780  190812022318    726.16 -1.54\n",
      "74610428        6781  190812022318    729.51 -1.22\n",
      "74610429        6782  190812022318    732.86 -1.04\n",
      "74610430        6783  190812022318    736.21 -0.87\n",
      "74610431        6784  190812022318    739.56 -0.76\n",
      "\n",
      "[74610432 rows x 4 columns]\n"
     ]
    }
   ],
   "source": [
    "data = pd.read_csv(os.path.join(src_folder, \"Stage 11.csv\"))\n",
    "print(data)"
   ],
   "metadata": {
    "collapsed": false,
    "pycharm": {
     "name": "#%%\n"
    }
   }
  },
  {
   "cell_type": "code",
   "execution_count": 3,
   "outputs": [
    {
     "name": "stdout",
     "output_type": "stream",
     "text": [
      "                        Unnamed: 0  SSTR\n",
      "Timestep     DEPT                       \n",
      "190811232001 -21980.64           1 -1.60\n",
      "             -21977.29           2 -1.58\n",
      "             -21973.94           3  0.06\n",
      "             -21970.59           4  0.09\n",
      "             -21967.24           5  0.20\n",
      "...                            ...   ...\n",
      "190812022318  726.16          6780 -1.54\n",
      "              729.51          6781 -1.22\n",
      "              732.86          6782 -1.04\n",
      "              736.21          6783 -0.87\n",
      "              739.56          6784 -0.76\n",
      "\n",
      "[74610432 rows x 2 columns]\n"
     ]
    }
   ],
   "source": [
    "data.set_index([\"Timestep\", \"DEPT\"], inplace=True)\n",
    "print(data)"
   ],
   "metadata": {
    "collapsed": false,
    "pycharm": {
     "name": "#%%\n"
    }
   }
  },
  {
   "cell_type": "code",
   "execution_count": 4,
   "outputs": [
    {
     "name": "stdout",
     "output_type": "stream",
     "text": [
      "                        SSTR\n",
      "Timestep     DEPT           \n",
      "190811232001 -21980.64 -1.60\n",
      "             -21977.29 -1.58\n",
      "             -21973.94  0.06\n",
      "             -21970.59  0.09\n",
      "             -21967.24  0.20\n",
      "...                      ...\n",
      "190812022318  726.16   -1.54\n",
      "              729.51   -1.22\n",
      "              732.86   -1.04\n",
      "              736.21   -0.87\n",
      "              739.56   -0.76\n",
      "\n",
      "[74610432 rows x 1 columns]\n"
     ]
    }
   ],
   "source": [
    "data = data.loc[:, ~data.columns.str.contains('^Unnamed')]\n",
    "print(data)"
   ],
   "metadata": {
    "collapsed": false,
    "pycharm": {
     "name": "#%%\n"
    }
   }
  },
  {
   "cell_type": "code",
   "execution_count": 5,
   "outputs": [
    {
     "name": "stdout",
     "output_type": "stream",
     "text": [
      "                        SSTR\n",
      "Timestep     DEPT           \n",
      "190811232001 -21980.64 -1.60\n",
      "             -21977.29 -1.58\n",
      "             -21973.94  0.06\n",
      "             -21970.59  0.09\n",
      "             -21967.24  0.20\n",
      "...                      ...\n",
      "190812022318  726.16   -1.54\n",
      "              729.51   -1.22\n",
      "              732.86   -1.04\n",
      "              736.21   -0.87\n",
      "              739.56   -0.76\n",
      "\n",
      "[74610432 rows x 1 columns]\n"
     ]
    }
   ],
   "source": [
    "print(data)"
   ],
   "metadata": {
    "collapsed": false,
    "pycharm": {
     "name": "#%%\n"
    }
   }
  },
  {
   "cell_type": "code",
   "execution_count": 6,
   "outputs": [
    {
     "data": {
      "text/plain": "<Figure size 432x288 with 1 Axes>",
      "image/png": "[encoded data removed]"
     },
     "metadata": {
      "needs_background": "light"
     },
     "output_type": "display_data"
    }
   ],
   "source": [
    "#ax = sns.heatmap(data, cmap = 'vlag', vmin=-5, vmax=5)\n",
    "\n",
    "ax = sns.histplot(data=data)\n"
   ],
   "metadata": {
    "collapsed": false,
    "pycharm": {
     "name": "#%%\n"
    }
   }
  }
 ],
 "metadata": {
  "kernelspec": {
   "display_name": "Python 3",
   "language": "python",
   "name": "python3"
  },
  "language_info": {
   "codemirror_mode": {
    "name": "ipython",
    "version": 2
   },
   "file_extension": ".py",
   "mimetype": "text/x-python",
   "name": "python",
   "nbconvert_exporter": "python",
   "pygments_lexer": "ipython2",
   "version": "2.7.6"
  }
 },
 "nbformat": 4,
 "nbformat_minor": 0
}