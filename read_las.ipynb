{
 "cells": [
  {
   "cell_type": "code",
   "execution_count": 5,
   "metadata": {
    "collapsed": true
   },
   "outputs": [],
   "source": [
    "import lasio\n",
    "import numpy as np\n",
    "import os\n",
    "import pandas as pd\n",
    "import seaborn as sns\n",
    "import re\n",
    "\n",
    "src_folder = r\"D:\\WVU Masters Research 2020\\NNE_Boggess-1H_FOWL4_SMF-CF_P10\"\n",
    "target_folder = r\"H:\\Output CSV\"\n",
    "stages = os.listdir(target_folder)\n",
    "stage_folder = os.path.join(target_folder, 'Stage 45 - Post')\n",
    "stage_folder_path = os.path.join(target_folder, stage_folder)\n",
    "\n",
    "#for stage in stages:\n",
    "    #utput_folder = os.path.join(target_folder, stage)\n",
    "    #if not os.path.exists(output_folder):\n",
    "        #os.mkdir(output_folder)\n",
    "    #print(stage)\n",
    "    #for file in os.listdir(os.path.join(src_folder, stage)):\n",
    "        #las = lasio.read(os.path.join(src_folder, stage, file))\n",
    "        #csv = las.to_csv(os.path.join(target_folder, stage, file))\n",
    "        #print(file)\n",
    "\n",
    "#match = re.findall(r\"\\d\\d\\d\\d\\d\\d\\d\\d\\d\\d\\d\\d\", str(os.path.join(stage_folder_path, \"NNE_Boggess-1H_FOWL4_SMF-CF_P10_RMS_190809040559.las\")))"
   ]
  },
  {
   "cell_type": "code",
   "execution_count": 6,
   "outputs": [],
   "source": [
    "# df = pd.read_csv(os.path.join(stage_folder_path, \"NNE_Boggess-1H_FOWL4_SMF-CF_P10_RMS_190809040559.las\"))\n",
    "# df.dropna(axis = 0, inplace=True)\n",
    "# df.drop([\"RMS\", \"RMS.1\", \"RMS.2\"], axis = 1, inplace = True)\n",
    "# df.insert(2, \"Timestep\", str(match[0]))\n",
    "# df.set_index(\"Timestep\", inplace = True)\n",
    "# print(df)\n"
   ],
   "metadata": {
    "collapsed": false,
    "pycharm": {
     "name": "#%%\n"
    }
   }
  },
  {
   "cell_type": "code",
   "execution_count": 7,
   "outputs": [],
   "source": [
    "#las = lasio.read(os.path.join(folder, file))\n",
    "#csv = las.to_csv(os.path.join(folder2, file2))\n",
    "\n",
    "#placeholder = pd.DataFrame()\n",
    "frames = []\n",
    "\n",
    "#df = pd.read_csv(os.path.join(stage_folder_path, \"NNE_Boggess-1H_FOWL4_SMF-CF_P10_RMS_190809040559.las\"))\n",
    "#df.dropna(axis = 0, inplace=True)\n",
    "#df.drop([\"RMS\", \"RMS.1\", \"RMS.2\"], axis = 1, inplace = True)\n",
    "#print(df)\n",
    "\n",
    "for file in os.listdir(stage_folder_path):\n",
    "    #print(os.path.join(stage_folder_path, file))\n",
    "    match = re.findall(r\"\\d\\d\\d\\d\\d\\d\\d\\d\\d\\d\\d\\d\", str(os.path.join(stage_folder_path, file)))\n",
    "    df = pd.DataFrame()\n",
    "    df = pd.read_csv(os.path.join(stage_folder_path, file))\n",
    "    df.dropna(axis=0, inplace=True)\n",
    "    df.drop([\"RMS\", \"RMS.1\", \"RMS.2\"], axis=1, inplace=True)\n",
    "    df = df.apply(pd.to_numeric)\n",
    "    df.insert(0, \"Timestep\", int(match[0]))\n",
    "    #df.set_index(\"Timestep\", inplace = True)\n",
    "    frames.append(df)\n",
    "\n",
    "big_data = pd.concat(frames)\n",
    "big_data.to_csv(os.path.join(r\"H:\\Stage CSV\\Stage 45 - Post.csv\"))\n"
   ],
   "metadata": {
    "collapsed": false,
    "pycharm": {
     "name": "#%%\n"
    }
   }
  },
  {
   "cell_type": "code",
   "execution_count": 8,
   "outputs": [],
   "source": [
    "big_data = pd.DataFrame()"
   ],
   "metadata": {
    "collapsed": false,
    "pycharm": {
     "name": "#%%\n"
    }
   }
  }
 ],
 "metadata": {
  "kernelspec": {
   "display_name": "Python 3",
   "language": "python",
   "name": "python3"
  },
  "language_info": {
   "codemirror_mode": {
    "name": "ipython",
    "version": 2
   },
   "file_extension": ".py",
   "mimetype": "text/x-python",
   "name": "python",
   "nbconvert_exporter": "python",
   "pygments_lexer": "ipython2",
   "version": "2.7.6"
  }
 },
 "nbformat": 4,
 "nbformat_minor": 0
}