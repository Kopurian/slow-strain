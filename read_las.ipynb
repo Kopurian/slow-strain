{
 "cells": [
  {
   "cell_type": "code",
   "execution_count": 1,
   "metadata": {},
   "outputs": [],
   "source": [
    "import pandas as pd\n",
    "import seaborn as sns\n",
    "import matplotlib.pyplot as plt\n",
    "import os"
   ]
  },
  {
   "cell_type": "code",
   "execution_count": 2,
   "metadata": {},
   "outputs": [],
   "source": [
    "src_folder = r\"E:\\Downloads\\mha0003\\Boggess\\Off Depth\\Copied Data\\Remaining Output\" # this folder should contain the csv generated\n",
    "out_folder = r\"E:\\Downloads\\mha0003\\Boggess\\Off Depth\\Copied Data\\5H on 1H Output\"\n",
    "files = os.listdir(src_folder)\n",
    "suffix = \".csv\""
   ]
  },
  {
   "cell_type": "code",
   "execution_count": 6,
   "metadata": {},
   "outputs": [],
   "source": [
    "# this cell creates a folder for the output\n",
    "# also can create a new folder if further data processing by copy and paste\n",
    "\n",
    "if not os.path.exists(os.path.join(src_folder, \"Stage Images 1 to 3\")):\n",
    "    os.mkdir(os.path.join(src_folder, \"Stage Images 1 to 3\"))\n",
    "\n",
    "if not os.path.exists(os.path.join(src_folder, \"Stage Images 1 to 2\")):\n",
    "    os.mkdir(os.path.join(src_folder, \"Stage Images 1 to 2\"))\n",
    "    \n",
    "if not os.path.exists(os.path.join(src_folder, \"Stage Images 1 to 1.5\")):\n",
    "    os.mkdir(os.path.join(src_folder, \"Stage Images 1 to 1.5\"))\n",
    "    \n",
    "if not os.path.exists(os.path.join(src_folder, \"Stage Images 1 to 10\")):\n",
    "    os.mkdir(os.path.join(src_folder, \"Stage Images 1 to 10\"))"
   ]
  },
  {
   "cell_type": "code",
   "execution_count": 3,
   "metadata": {},
   "outputs": [],
   "source": [
    "# the loop will generate and save a heatmap for each stage. Change the limits of the graph in vmin and vmax, as well as the strings\n",
    "\n",
    "for file in files:\n",
    "    input = os.listdir(os.path.join(src_folder, file))\n",
    "    for input_data in input:\n",
    "            if input_data.endswith(\".csv\"):\n",
    "                data = pd.DataFrame()\n",
    "                data = pd.read_csv(os.path.join(src_folder, file, input_data))\n",
    "                data.drop(data[data.SSTR < 1 ].index, inplace=True)\n",
    "                data.drop(data[data.SSTR > 25 ].index, inplace=True)\n",
    "                data.drop(data[data.DEPT > -8000 ].index, inplace=True)\n",
    "                f = plt.figure()\n",
    "                sns.set(rc = {'figure.figsize':(15,8)})\n",
    "                plot_data = pd.pivot_table(data, index='Timestep', columns='DEPT', values='SSTR')\n",
    "                ax = sns.heatmap(plot_data, vmin = 1, vmax = 3, cmap = \"vlag\")\n",
    "                ax.set_title(\"{}\".format(input))\n",
    "                plt.savefig(os.path.join(out_folder, \"Stage Images 1 to 3\", \"{} 1 to 3.png\".format(input)), dpi = 300)\n",
    "                f.clear()\n",
    "                plt.close(f)"
   ]
  },
  {
   "cell_type": "code",
   "execution_count": 4,
   "metadata": {},
   "outputs": [],
   "source": [
    "for file in files:\n",
    "    input = os.listdir(os.path.join(src_folder, file))\n",
    "    for input_data in input:\n",
    "            if input_data.endswith(\".csv\"):\n",
    "                data = pd.DataFrame()\n",
    "                data = pd.read_csv(os.path.join(src_folder, file, input_data))\n",
    "                data.drop(data[data.SSTR < 1 ].index, inplace=True)\n",
    "                data.drop(data[data.SSTR > 25 ].index, inplace=True)\n",
    "                data.drop(data[data.DEPT > -8000 ].index, inplace=True)\n",
    "                f = plt.figure()\n",
    "                sns.set(rc = {'figure.figsize':(15,8)})\n",
    "                plot_data = pd.pivot_table(data, index='Timestep', columns='DEPT', values='SSTR')\n",
    "                ax = sns.heatmap(plot_data, vmin = 1, vmax = 2, cmap = \"vlag\")\n",
    "                ax.set_title(\"{}\".format(input))\n",
    "                plt.savefig(os.path.join(out_folder, \"Stage Images 1 to 2\", \"{} 1 to 2.png\".format(input)), dpi = 300)\n",
    "                f.clear()\n",
    "                plt.close(f)"
   ]
  },
  {
   "cell_type": "code",
   "execution_count": 5,
   "metadata": {},
   "outputs": [],
   "source": [
    "for file in files:\n",
    "    input = os.listdir(os.path.join(src_folder, file))\n",
    "    for input_data in input:\n",
    "            if input_data.endswith(\".csv\"):\n",
    "                data = pd.DataFrame()\n",
    "                data = pd.read_csv(os.path.join(src_folder, file, input_data))\n",
    "                data.drop(data[data.SSTR < 1 ].index, inplace=True)\n",
    "                data.drop(data[data.SSTR > 25 ].index, inplace=True)\n",
    "                data.drop(data[data.DEPT > -8000 ].index, inplace=True)\n",
    "                f = plt.figure()\n",
    "                sns.set(rc = {'figure.figsize':(15,8)})\n",
    "                plot_data = pd.pivot_table(data, index='Timestep', columns='DEPT', values='SSTR')\n",
    "                ax = sns.heatmap(plot_data, vmin = 1, vmax = 1.5, cmap = \"vlag\")\n",
    "                ax.set_title(\"{}\".format(input))\n",
    "                plt.savefig(os.path.join(out_folder, \"Stage Images 1 to 1.5\", \"{} 1 to 1.5.png\".format(input)), dpi = 300)\n",
    "                f.clear()\n",
    "                plt.close(f)"
   ]
  },
  {
   "cell_type": "code",
   "execution_count": 8,
   "metadata": {},
   "outputs": [],
   "source": [
    "for file in files:\n",
    "    input = os.listdir(os.path.join(src_folder, file))\n",
    "    for input_data in input:\n",
    "            if input_data.endswith(\".csv\"):\n",
    "                data = pd.DataFrame()\n",
    "                data = pd.read_csv(os.path.join(src_folder, file, input_data))\n",
    "                data.drop(data[data.SSTR < 1 ].index, inplace=True)\n",
    "                data.drop(data[data.SSTR > 25 ].index, inplace=True)\n",
    "                data.drop(data[data.DEPT > -8000 ].index, inplace=True)\n",
    "                f = plt.figure()\n",
    "                sns.set(rc = {'figure.figsize':(15,8)})\n",
    "                plot_data = pd.pivot_table(data, index='Timestep', columns='DEPT', values='SSTR')\n",
    "                ax = sns.heatmap(plot_data, vmin = 1, vmax = 10, cmap = \"vlag\")\n",
    "                ax.set_title(\"{}\".format(input))\n",
    "                plt.savefig(os.path.join(src_folder, \"Stage Images 1 to 10\", \"{} 1 to 10.png\".format(input)), dpi = 300)\n",
    "                f.clear()\n",
    "                plt.close(f)"
   ]
  },
  {
   "cell_type": "code",
   "execution_count": null,
   "metadata": {},
   "outputs": [],
   "source": []
  }
 ],
 "metadata": {
  "interpreter": {
   "hash": "b50f0024ac28a240cd88c708084c3a2ffd40687d8bc14eba0917d67fbdc7c42b"
  },
  "kernelspec": {
   "display_name": "Python 3.10.0 64-bit (windows store)",
   "language": "python",
   "name": "python3"
  },
  "language_info": {
   "codemirror_mode": {
    "name": "ipython",
    "version": 3
   },
   "file_extension": ".py",
   "mimetype": "text/x-python",
   "name": "python",
   "nbconvert_exporter": "python",
   "pygments_lexer": "ipython3",
   "version": "3.10.0"
  },
  "orig_nbformat": 4
 },
 "nbformat": 4,
 "nbformat_minor": 2
}
